{
  "nbformat": 4,
  "nbformat_minor": 0,
  "metadata": {
    "kernelspec": {
      "display_name": "Python 3",
      "language": "python",
      "name": "python3"
    },
    "language_info": {
      "codemirror_mode": {
        "name": "ipython",
        "version": 3
      },
      "file_extension": ".py",
      "mimetype": "text/x-python",
      "name": "python",
      "nbconvert_exporter": "python",
      "pygments_lexer": "ipython3",
      "version": "3.7.2"
    },
    "colab": {
      "name": "Module 4 ML Boot Camp.ipynb",
      "provenance": [],
      "toc_visible": true
    }
  },
  "cells": [
    {
      "cell_type": "markdown",
      "metadata": {
        "id": "kf1QadRqbRVB",
        "colab_type": "text"
      },
      "source": [
        "## Module 4 Example\n",
        "\n",
        "The Boston Housing Case\n",
        "\n"
      ]
    },
    {
      "cell_type": "code",
      "metadata": {
        "id": "ma_Y-uvibRVP",
        "colab_type": "code",
        "colab": {}
      },
      "source": [
        "############################Initialization############################\n",
        "RANDOM_SEED = 1 # seed value for random number generator             \n",
        "import numpy as np\n",
        "from scipy import stats as st\n",
        "import pandas as pd\n",
        "import seaborn as sns\n",
        "from matplotlib import rc\n",
        "import os #manage files\n",
        "import matplotlib.pyplot as plt  #plots\n",
        "from matplotlib import rc\n",
        "import sklearn \n",
        "from sklearn.model_selection import train_test_split\n",
        "import itertools\n",
        "from math import sqrt\n",
        "from sklearn.metrics import mean_squared_error, r2_score # evaluation metrics\n",
        "from sklearn.preprocessing import StandardScaler # used for variable scaling data\n",
        "from sklearn.preprocessing import MinMaxScaler as Scaler # used for variable scaling data\n",
        "from sklearn.tree import DecisionTreeRegressor # Regression tree package\n",
        "from sklearn.ensemble import ExtraTreesRegressor # Extra Trees package (bagging)\n",
        "from sklearn.ensemble import RandomForestRegressor # Random Forest package\n",
        "from sklearn.ensemble import GradientBoostingRegressor # Gradient Boosting package\n",
        "from sklearn.model_selection import KFold\n",
        "import sklearn.linear_model \n",
        "#####################################################################"
      ],
      "execution_count": 0,
      "outputs": []
    },
    {
      "cell_type": "markdown",
      "metadata": {
        "id": "JMFhXLesbRVa",
        "colab_type": "text"
      },
      "source": [
        "## Data Ingest and Curation"
      ]
    },
    {
      "cell_type": "code",
      "metadata": {
        "id": "CKerFtw8bRVe",
        "colab_type": "code",
        "colab": {}
      },
      "source": [
        "mydata=pd.read_csv('boston.csv')\n",
        "mydata=mydata.drop('neighborhood', 1)\n",
        "mydata2=mydata.apply(lambda x: x+.01)\n",
        "mydata3 = mydata2.transform(lambda x: st.boxcox(x)[0])\n",
        "mydata4 = mydata3.transform(lambda x: (x - x.min()) / (x.max() - x.min()))\n",
        "cols = mydata4.columns.tolist()\n",
        "cols = cols[-1:] + cols[:-1]\n",
        "mydata5=mydata4[cols]\n",
        "model_data=mydata5.values"
      ],
      "execution_count": 0,
      "outputs": []
    },
    {
      "cell_type": "code",
      "metadata": {
        "id": "3yRNGdvxbRYT",
        "colab_type": "code",
        "colab": {}
      },
      "source": [
        "# Seed value for random number generators to obtain reproducible results\n",
        "RANDOM_SEED = 1\n",
        "\n",
        "# The model input data outside of the modeling method calls\n",
        "names = ['DecisionTree_Regression', 'ExtraTrees_Regression', 'RandomForest_Regression', 'GradientBoosting_Regression']\n",
        "\n",
        "# Specify the set of regression models being evaluated\n",
        "regressors = [DecisionTreeRegressor(criterion='mse', max_features = 10, random_state=RANDOM_SEED), \n",
        "              ExtraTreesRegressor(n_estimators = 100, criterion='mse', max_features = 10, bootstrap=True, n_jobs = -1, random_state = RANDOM_SEED),\n",
        "              RandomForestRegressor(n_estimators = 100, criterion='mse', max_features = 10, bootstrap=True, n_jobs = -1, random_state = RANDOM_SEED),\n",
        "              GradientBoostingRegressor(n_estimators = 100, criterion='mse', max_features = 10, random_state=RANDOM_SEED)]"
      ],
      "execution_count": 0,
      "outputs": []
    },
    {
      "cell_type": "markdown",
      "metadata": {
        "id": "60prrTnRbRYb",
        "colab_type": "text"
      },
      "source": [
        "# Random Search"
      ]
    },
    {
      "cell_type": "code",
      "metadata": {
        "id": "p-RI2FaQbRYf",
        "colab_type": "code",
        "colab": {
          "base_uri": "https://localhost:8080/",
          "height": 544
        },
        "outputId": "7595262f-0b95-4e8a-c920-1b7233b6f9fe"
      },
      "source": [
        "# Establish number of cross folds employed for cross-validation\n",
        "N_FOLDS = 10\n",
        "\n",
        "# Setup numpy array for storing results\n",
        "cv_results = np.zeros((N_FOLDS, len(names)))\n",
        "\n",
        "# Initiate splitting process\n",
        "kf = KFold(n_splits = N_FOLDS, shuffle=False, random_state = RANDOM_SEED)\n",
        "\n",
        "# Check the splitting process by looking at fold observation counts\n",
        "index_for_fold = 0  # Fold count initialized \n",
        "for train_index, test_index in kf.split(model_data):\n",
        "    print('\\nFold index:', index_for_fold, '---------------------------------------------------------------------------------------')\n",
        "\n",
        "# The structure of modeling data for this study has the response variable coming first and explanatory variables later          \n",
        "# so 1:model_data.shape[1] slices for explanatory variables and 0 is the index for the response variable    \n",
        "    X_train = model_data[train_index, 1:model_data.shape[1]]\n",
        "    X_test = model_data[test_index, 1:model_data.shape[1]]\n",
        "    y_train = model_data[train_index, 0]\n",
        "    y_test = model_data[test_index, 0]   \n",
        "\n",
        "    index_for_method = 0  # Method count initialized\n",
        "    for name, reg_model in zip(names, regressors):\n",
        "        reg_model.fit(X_train, y_train)  # Fit on the train set for this fold\n",
        " \n",
        "        # Evaluate on the test set for this fold\n",
        "        y_test_predict = reg_model.predict(X_test)\n",
        "        fold_method_result = sqrt(mean_squared_error(y_test, y_test_predict))\n",
        "        cv_results[index_for_fold, index_for_method] = fold_method_result\n",
        "        index_for_method += 1\n",
        "  \n",
        "    index_for_fold += 1\n",
        "\n",
        "cv_results_df = pd.DataFrame(cv_results)\n",
        "cv_results_df.columns = names\n",
        "\n",
        "print('\\n---------------------------------------------------------------------------------------')\n",
        "print('Average results from ', N_FOLDS, '-fold cross-validation\\n',\n",
        "      'in standardized units (mean 0, standard deviation 1)\\n',\n",
        "      '\\nMethod               Root mean-squared error', sep = '')    \n",
        "print(cv_results_df.mean())"
      ],
      "execution_count": 4,
      "outputs": [
        {
          "output_type": "stream",
          "text": [
            "\n",
            "Fold index: 0 ---------------------------------------------------------------------------------------\n",
            "\n",
            "Fold index: 1 ---------------------------------------------------------------------------------------\n",
            "\n",
            "Fold index: 2 ---------------------------------------------------------------------------------------\n",
            "\n",
            "Fold index: 3 ---------------------------------------------------------------------------------------\n",
            "\n",
            "Fold index: 4 ---------------------------------------------------------------------------------------\n",
            "\n",
            "Fold index: 5 ---------------------------------------------------------------------------------------\n",
            "\n",
            "Fold index: 6 ---------------------------------------------------------------------------------------\n",
            "\n",
            "Fold index: 7 ---------------------------------------------------------------------------------------\n",
            "\n",
            "Fold index: 8 ---------------------------------------------------------------------------------------\n",
            "\n",
            "Fold index: 9 ---------------------------------------------------------------------------------------\n",
            "\n",
            "---------------------------------------------------------------------------------------\n",
            "Average results from 10-fold cross-validation\n",
            "in standardized units (mean 0, standard deviation 1)\n",
            "\n",
            "Method               Root mean-squared error\n",
            "DecisionTree_Regression        0.109926\n",
            "ExtraTrees_Regression          0.078293\n",
            "RandomForest_Regression        0.082774\n",
            "GradientBoosting_Regression    0.080902\n",
            "dtype: float64\n"
          ],
          "name": "stdout"
        }
      ]
    },
    {
      "cell_type": "markdown",
      "metadata": {
        "id": "nrKjc34cbRY6",
        "colab_type": "text"
      },
      "source": [
        "# Grid Search"
      ]
    },
    {
      "cell_type": "code",
      "metadata": {
        "id": "MhgaNOBbbRY8",
        "colab_type": "code",
        "colab": {
          "base_uri": "https://localhost:8080/",
          "height": 476
        },
        "outputId": "2f87aec7-d94d-4bcd-a233-83abc936c3e9"
      },
      "source": [
        "from sklearn.model_selection import GridSearchCV\n",
        "\n",
        "# Create a base model\n",
        "rf = RandomForestRegressor()\n",
        "\n",
        "# Create the parameter grid based on the results of random search \n",
        "param_grid = {\n",
        "    'bootstrap': [True],\n",
        "    'max_depth': [80, 90, 100, 110],\n",
        "    'max_features': [2, 3],\n",
        "    'min_samples_leaf': [3, 4, 5],\n",
        "    'min_samples_split': [8, 10, 12],\n",
        "    'n_estimators': [100, 200, 300, 1000]\n",
        "}\n",
        "\n",
        "grid_search = GridSearchCV(estimator = rf, param_grid = param_grid, cv = 3, n_jobs = -1, verbose = 2)\n",
        "\n",
        "grid_search.fit(X_train, y_train)"
      ],
      "execution_count": 5,
      "outputs": [
        {
          "output_type": "stream",
          "text": [
            "Fitting 3 folds for each of 288 candidates, totalling 864 fits\n"
          ],
          "name": "stdout"
        },
        {
          "output_type": "stream",
          "text": [
            "[Parallel(n_jobs=-1)]: Using backend LokyBackend with 2 concurrent workers.\n",
            "[Parallel(n_jobs=-1)]: Done  37 tasks      | elapsed:    8.3s\n",
            "[Parallel(n_jobs=-1)]: Done 158 tasks      | elapsed:   33.7s\n",
            "[Parallel(n_jobs=-1)]: Done 361 tasks      | elapsed:  1.3min\n",
            "[Parallel(n_jobs=-1)]: Done 644 tasks      | elapsed:  2.3min\n",
            "[Parallel(n_jobs=-1)]: Done 864 out of 864 | elapsed:  3.0min finished\n"
          ],
          "name": "stderr"
        },
        {
          "output_type": "execute_result",
          "data": {
            "text/plain": [
              "GridSearchCV(cv=3, error_score='raise-deprecating',\n",
              "             estimator=RandomForestRegressor(bootstrap=True, criterion='mse',\n",
              "                                             max_depth=None,\n",
              "                                             max_features='auto',\n",
              "                                             max_leaf_nodes=None,\n",
              "                                             min_impurity_decrease=0.0,\n",
              "                                             min_impurity_split=None,\n",
              "                                             min_samples_leaf=1,\n",
              "                                             min_samples_split=2,\n",
              "                                             min_weight_fraction_leaf=0.0,\n",
              "                                             n_estimators='warn', n_jobs=None,\n",
              "                                             oob_score=False, random_state=None,\n",
              "                                             verbose=0, warm_start=False),\n",
              "             iid='warn', n_jobs=-1,\n",
              "             param_grid={'bootstrap': [True], 'max_depth': [80, 90, 100, 110],\n",
              "                         'max_features': [2, 3], 'min_samples_leaf': [3, 4, 5],\n",
              "                         'min_samples_split': [8, 10, 12],\n",
              "                         'n_estimators': [100, 200, 300, 1000]},\n",
              "             pre_dispatch='2*n_jobs', refit=True, return_train_score=False,\n",
              "             scoring=None, verbose=2)"
            ]
          },
          "metadata": {
            "tags": []
          },
          "execution_count": 5
        }
      ]
    },
    {
      "cell_type": "code",
      "metadata": {
        "id": "wTghMi-EbRZD",
        "colab_type": "code",
        "colab": {
          "base_uri": "https://localhost:8080/",
          "height": 85
        },
        "outputId": "b4f5529f-cb35-4a45-910f-b9761035d195"
      },
      "source": [
        "def evaluate(model, test_features, test_labels):\n",
        "    predictions = model.predict(test_features)\n",
        "    errors = abs(predictions - test_labels)\n",
        "    mape = 100 * np.mean(errors / test_labels)\n",
        "    accuracy = 100 - mape\n",
        "    print('Model Performance')\n",
        "    print('Average Error: {:0.4f} degrees.'.format(np.mean(errors)))\n",
        "    print('Accuracy = {:0.2f}%.'.format(accuracy))\n",
        "    \n",
        "    return accuracy\n",
        "\n",
        "print(grid_search.best_params_)\n",
        "best_grid = grid_search.best_estimator_\n",
        "grid_accuracy = evaluate(best_grid, X_test,y_test)"
      ],
      "execution_count": 6,
      "outputs": [
        {
          "output_type": "stream",
          "text": [
            "{'bootstrap': True, 'max_depth': 90, 'max_features': 3, 'min_samples_leaf': 3, 'min_samples_split': 8, 'n_estimators': 100}\n",
            "Model Performance\n",
            "Average Error: 0.0609 degrees.\n",
            "Accuracy = 81.85%.\n"
          ],
          "name": "stdout"
        }
      ]
    },
    {
      "cell_type": "markdown",
      "metadata": {
        "id": "qiinWCC4bRZP",
        "colab_type": "text"
      },
      "source": [
        "# Let's Refit the Extra Trees Model and Check Feature Importance\n"
      ]
    },
    {
      "cell_type": "code",
      "metadata": {
        "id": "nzcQoR0hbRZS",
        "colab_type": "code",
        "colab": {}
      },
      "source": [
        "X=mydata5.iloc[:, 1:12].values\n",
        "y=mydata5.iloc[:,0].values    "
      ],
      "execution_count": 0,
      "outputs": []
    },
    {
      "cell_type": "code",
      "metadata": {
        "id": "MwS8jMj3bRZb",
        "colab_type": "code",
        "colab": {}
      },
      "source": [
        "myfit=ExtraTreesRegressor(n_estimators = 100, \n",
        "                          criterion='mse', \n",
        "                          max_features = 3, \n",
        "                          max_depth=100,\n",
        "                          bootstrap=True, \n",
        "                          min_samples_leaf=4,\n",
        "                          min_samples_split=8, \n",
        "                          n_jobs = -1, \n",
        "                          random_state = RANDOM_SEED)"
      ],
      "execution_count": 0,
      "outputs": []
    },
    {
      "cell_type": "code",
      "metadata": {
        "id": "LhIs47ZnbRZk",
        "colab_type": "code",
        "colab": {
          "base_uri": "https://localhost:8080/",
          "height": 136
        },
        "outputId": "9456dc2b-6695-407a-be5f-5b4eb8de1a40"
      },
      "source": [
        "myfit.fit(X,y)"
      ],
      "execution_count": 9,
      "outputs": [
        {
          "output_type": "execute_result",
          "data": {
            "text/plain": [
              "ExtraTreesRegressor(bootstrap=True, criterion='mse', max_depth=100,\n",
              "                    max_features=3, max_leaf_nodes=None,\n",
              "                    min_impurity_decrease=0.0, min_impurity_split=None,\n",
              "                    min_samples_leaf=4, min_samples_split=8,\n",
              "                    min_weight_fraction_leaf=0.0, n_estimators=100, n_jobs=-1,\n",
              "                    oob_score=False, random_state=1, verbose=0,\n",
              "                    warm_start=False)"
            ]
          },
          "metadata": {
            "tags": []
          },
          "execution_count": 9
        }
      ]
    },
    {
      "cell_type": "code",
      "metadata": {
        "id": "fWyZPgWobRZu",
        "colab_type": "code",
        "colab": {
          "base_uri": "https://localhost:8080/",
          "height": 51
        },
        "outputId": "6960ffb7-2a84-4dea-dafa-67911b37a589"
      },
      "source": [
        "print(\"R^2=\",myfit.score(X,y)) # quick R^2\n",
        "pred= myfit.predict(X)\n",
        "rmse = sqrt(mean_squared_error(pred, y))\n",
        "print('RMSE=', rmse)"
      ],
      "execution_count": 10,
      "outputs": [
        {
          "output_type": "stream",
          "text": [
            "R^2= 0.7347572455403935\n",
            "RMSE= 0.09514584214825246\n"
          ],
          "name": "stdout"
        }
      ]
    },
    {
      "cell_type": "code",
      "metadata": {
        "id": "gqlChDuUbRZ2",
        "colab_type": "code",
        "colab": {
          "base_uri": "https://localhost:8080/",
          "height": 298
        },
        "outputId": "ef5dba55-fb90-4e01-a290-b805974f98b6"
      },
      "source": [
        "importances=myfit.feature_importances_\n",
        "std = np.std([myfit.feature_importances_ for tree in myfit.estimators_],\n",
        "             axis=0)\n",
        "indices = np.argsort(importances)[::-1]\n",
        "plt.figure()\n",
        "plt.title(\"Feature importances\")\n",
        "plt.barh(range(X.shape[1]), importances[indices],\n",
        "       color=\"r\", xerr=std[indices], align=\"center\")\n",
        "plt.yticks(range(X.shape[1]), indices)\n",
        "plt.ylim([-1, X.shape[1]])"
      ],
      "execution_count": 11,
      "outputs": [
        {
          "output_type": "execute_result",
          "data": {
            "text/plain": [
              "(-1, 11)"
            ]
          },
          "metadata": {
            "tags": []
          },
          "execution_count": 11
        },
        {
          "output_type": "display_data",
          "data": {
            "image/png": "[encoded data removed]",
            "text/plain": [
              "<Figure size 432x288 with 1 Axes>"
            ]
          },
          "metadata": {
            "tags": []
          }
        }
      ]
    },
    {
      "cell_type": "markdown",
      "metadata": {
        "id": "Se8YKuEjbRZ-",
        "colab_type": "text"
      },
      "source": [
        "This completes the example for Module 4.\n",
        "\n"
      ]
    }
  ]
}