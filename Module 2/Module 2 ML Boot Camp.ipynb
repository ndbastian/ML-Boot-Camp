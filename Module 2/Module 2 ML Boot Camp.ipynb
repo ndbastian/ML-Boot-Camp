{
 "cells": [
  {
   "cell_type": "markdown",
   "metadata": {},
   "source": [
    "## Example for Module 2\n",
    "\n",
    "This week, I am going to demonstrate a few additional code elements for you. First things first, let's get the initial code loaded. \n"
   ]
  },
  {
   "cell_type": "code",
   "execution_count": 1,
   "metadata": {},
   "outputs": [],
   "source": [
    "############################Initialization############################\n",
    "RANDOM_SEED = 1 # seed value for random number generator             \n",
    "import numpy as np\n",
    "import pandas as pd\n",
    "\n",
    "import seaborn as sns\n",
    "import os #manage files\n",
    "import matplotlib.pyplot as plt  #plots\n",
    "from matplotlib import rc\n",
    "\n",
    "import sklearn \n",
    "from sklearn.model_selection import train_test_split as tts\n",
    "from sklearn.utils import resample\n",
    "from sklearn.linear_model import LogisticRegressionCV\n",
    "from sklearn.linear_model import LogisticRegression\n",
    "from sklearn.naive_bayes import GaussianNB\n",
    "\n",
    "from scipy import stats as st\n",
    "import itertools\n",
    "import tabulate\n",
    "os.chdir('C:\\\\Users\\\\natha\\\\Desktop')\n",
    "######################################################################"
   ]
  },
  {
   "cell_type": "markdown",
   "metadata": {},
   "source": [
    "## Load and Look\n",
    "\n",
    "Load the data and transform as necessary."
   ]
  },
  {
   "cell_type": "code",
   "execution_count": 2,
   "metadata": {},
   "outputs": [
    {
     "name": "stdout",
     "output_type": "stream",
     "text": [
      "age           int64\n",
      "job          object\n",
      "marital      object\n",
      "education    object\n",
      "default      object\n",
      "balance       int64\n",
      "housing      object\n",
      "loan         object\n",
      "contact      object\n",
      "day           int64\n",
      "month        object\n",
      "duration      int64\n",
      "campaign      int64\n",
      "pdays         int64\n",
      "previous      int64\n",
      "poutcome     object\n",
      "response     object\n",
      "dtype: object\n"
     ]
    }
   ],
   "source": [
    "############################Read Data and Examine#####################\n",
    "# initial work with the smaller data set\n",
    "bank1 = pd.read_csv('bank.csv', sep = ';') \n",
    "bank = pd.get_dummies(bank1) #We can convert to dummies right up front.\n",
    "print (bank1.dtypes)\n",
    "######################################################################"
   ]
  },
  {
   "cell_type": "code",
   "execution_count": 3,
   "metadata": {},
   "outputs": [
    {
     "name": "stdout",
     "output_type": "stream",
     "text": [
      "   age          job  marital  education default  balance housing loan  \\\n",
      "0   30   unemployed  married    primary      no     1787      no   no   \n",
      "1   33     services  married  secondary      no     4789     yes  yes   \n",
      "2   35   management   single   tertiary      no     1350     yes   no   \n",
      "3   30   management  married   tertiary      no     1476     yes  yes   \n",
      "4   59  blue-collar  married  secondary      no        0     yes   no   \n",
      "\n",
      "    contact  day month  duration  campaign  pdays  previous poutcome response  \n",
      "0  cellular   19   oct        79         1     -1         0  unknown       no  \n",
      "1  cellular   11   may       220         1    339         4  failure       no  \n",
      "2  cellular   16   apr       185         1    330         1  failure       no  \n",
      "3   unknown    3   jun       199         4     -1         0  unknown       no  \n",
      "4   unknown    5   may       226         1     -1         0  unknown       no  \n"
     ]
    }
   ],
   "source": [
    "print(pd.DataFrame.head(bank1)) #Header"
   ]
  },
  {
   "cell_type": "markdown",
   "metadata": {},
   "source": [
    "## Crosstabs and Numerics\n",
    "\n",
    "We can run some crosstabs and describe our dataset."
   ]
  },
  {
   "cell_type": "code",
   "execution_count": 4,
   "metadata": {},
   "outputs": [
    {
     "name": "stdout",
     "output_type": "stream",
     "text": [
      "Housing      0     1\n",
      "Response            \n",
      "0         1661  2339\n",
      "1          301   220 \n",
      "\n",
      "Loan         0    1\n",
      "Response           \n",
      "0         3352  648\n",
      "1          478   43 \n",
      "\n",
      "Default      0   1\n",
      "Response          \n",
      "0         3933  67\n",
      "1          512   9 \n",
      "\n",
      "\u001b[1m Odds for Response Yes for Each Variable with 95% CI \u001b[0m\n",
      "If housing=yes, odds for response=yes: [0.519, 0.498, 0.541]\n",
      "If loan=yes, odds for response=yes: [0.465, 0.451, 0.48]\n",
      "If default=yes, odds for response=yes [1.032, 1.002, 1.063]\n"
     ]
    }
   ],
   "source": [
    "#######################Some Crosstabs and Plot###########################\n",
    "a=pd.crosstab(bank.response_yes, \n",
    "            bank.housing_yes, \n",
    "            rownames=['Response'], colnames=['Housing'])\n",
    "\n",
    "b=pd.crosstab(bank.response_yes, \n",
    "            bank.loan_yes, \n",
    "            rownames=['Response'], colnames=['Loan'])\n",
    "\n",
    "c=pd.crosstab(bank.response_yes, \n",
    "            bank.default_yes, \n",
    "            rownames=['Response'], colnames=['Default'])\n",
    "\n",
    "print(a,\"\\n\")\n",
    "print(b,\"\\n\")\n",
    "print(c,\"\\n\")\n",
    "\n",
    "def myor(a):\n",
    "        myv=round((a.loc[1,1]/a.loc[0,1])/(a.loc[1,0]/a.loc[0,0]),3)\n",
    "        logmyv=np.log(myv)\n",
    "        se=np.sqrt(1/(a.loc[1,1]+1/a.loc[0,1]+a.loc[1,0]+a.loc[0,0]))\n",
    "        lower=round(np.exp(logmyv-1.96*se),3)\n",
    "        upper=round(np.exp(logmyv+1.96*se),3)\n",
    "        return [myv, lower, upper]\n",
    "\n",
    "\n",
    "print('\\033[1m',\"Odds for Response Yes for Each Variable with 95% CI\", '\\033[0m')\n",
    "print(\"If housing=yes, odds for response=yes:\", myor(a))\n",
    "print(\"If loan=yes, odds for response=yes:\", myor(b))\n",
    "print(\"If default=yes, odds for response=yes\", myor(c))\n",
    "#########################################################################"
   ]
  },
  {
   "cell_type": "code",
   "execution_count": 5,
   "metadata": {},
   "outputs": [
    {
     "data": {
      "text/html": [
       "<div>\n",
       "<style scoped>\n",
       "    .dataframe tbody tr th:only-of-type {\n",
       "        vertical-align: middle;\n",
       "    }\n",
       "\n",
       "    .dataframe tbody tr th {\n",
       "        vertical-align: top;\n",
       "    }\n",
       "\n",
       "    .dataframe thead th {\n",
       "        text-align: right;\n",
       "    }\n",
       "</style>\n",
       "<table border=\"1\" class=\"dataframe\">\n",
       "  <thead>\n",
       "    <tr style=\"text-align: right;\">\n",
       "      <th></th>\n",
       "      <th>age</th>\n",
       "      <th>balance</th>\n",
       "      <th>day</th>\n",
       "      <th>duration</th>\n",
       "      <th>campaign</th>\n",
       "      <th>pdays</th>\n",
       "      <th>previous</th>\n",
       "      <th>job_admin.</th>\n",
       "      <th>job_blue-collar</th>\n",
       "      <th>job_entrepreneur</th>\n",
       "      <th>...</th>\n",
       "      <th>month_may</th>\n",
       "      <th>month_nov</th>\n",
       "      <th>month_oct</th>\n",
       "      <th>month_sep</th>\n",
       "      <th>poutcome_failure</th>\n",
       "      <th>poutcome_other</th>\n",
       "      <th>poutcome_success</th>\n",
       "      <th>poutcome_unknown</th>\n",
       "      <th>response_no</th>\n",
       "      <th>response_yes</th>\n",
       "    </tr>\n",
       "  </thead>\n",
       "  <tbody>\n",
       "    <tr>\n",
       "      <th>count</th>\n",
       "      <td>4521.000000</td>\n",
       "      <td>4521.000000</td>\n",
       "      <td>4521.000000</td>\n",
       "      <td>4521.000000</td>\n",
       "      <td>4521.000000</td>\n",
       "      <td>4521.000000</td>\n",
       "      <td>4521.000000</td>\n",
       "      <td>4521.000000</td>\n",
       "      <td>4521.000000</td>\n",
       "      <td>4521.000000</td>\n",
       "      <td>...</td>\n",
       "      <td>4521.000000</td>\n",
       "      <td>4521.000000</td>\n",
       "      <td>4521.000000</td>\n",
       "      <td>4521.000000</td>\n",
       "      <td>4521.000000</td>\n",
       "      <td>4521.000000</td>\n",
       "      <td>4521.000000</td>\n",
       "      <td>4521.000000</td>\n",
       "      <td>4521.000000</td>\n",
       "      <td>4521.000000</td>\n",
       "    </tr>\n",
       "    <tr>\n",
       "      <th>mean</th>\n",
       "      <td>41.170095</td>\n",
       "      <td>1422.657819</td>\n",
       "      <td>15.915284</td>\n",
       "      <td>263.961292</td>\n",
       "      <td>2.793630</td>\n",
       "      <td>39.766645</td>\n",
       "      <td>0.542579</td>\n",
       "      <td>0.105729</td>\n",
       "      <td>0.209246</td>\n",
       "      <td>0.037160</td>\n",
       "      <td>...</td>\n",
       "      <td>0.309224</td>\n",
       "      <td>0.086043</td>\n",
       "      <td>0.017695</td>\n",
       "      <td>0.011502</td>\n",
       "      <td>0.108383</td>\n",
       "      <td>0.043574</td>\n",
       "      <td>0.028534</td>\n",
       "      <td>0.819509</td>\n",
       "      <td>0.884760</td>\n",
       "      <td>0.115240</td>\n",
       "    </tr>\n",
       "    <tr>\n",
       "      <th>std</th>\n",
       "      <td>10.576211</td>\n",
       "      <td>3009.638142</td>\n",
       "      <td>8.247667</td>\n",
       "      <td>259.856633</td>\n",
       "      <td>3.109807</td>\n",
       "      <td>100.121124</td>\n",
       "      <td>1.693562</td>\n",
       "      <td>0.307524</td>\n",
       "      <td>0.406815</td>\n",
       "      <td>0.189174</td>\n",
       "      <td>...</td>\n",
       "      <td>0.462225</td>\n",
       "      <td>0.280458</td>\n",
       "      <td>0.131856</td>\n",
       "      <td>0.106640</td>\n",
       "      <td>0.310898</td>\n",
       "      <td>0.204169</td>\n",
       "      <td>0.166510</td>\n",
       "      <td>0.384638</td>\n",
       "      <td>0.319347</td>\n",
       "      <td>0.319347</td>\n",
       "    </tr>\n",
       "    <tr>\n",
       "      <th>min</th>\n",
       "      <td>19.000000</td>\n",
       "      <td>-3313.000000</td>\n",
       "      <td>1.000000</td>\n",
       "      <td>4.000000</td>\n",
       "      <td>1.000000</td>\n",
       "      <td>-1.000000</td>\n",
       "      <td>0.000000</td>\n",
       "      <td>0.000000</td>\n",
       "      <td>0.000000</td>\n",
       "      <td>0.000000</td>\n",
       "      <td>...</td>\n",
       "      <td>0.000000</td>\n",
       "      <td>0.000000</td>\n",
       "      <td>0.000000</td>\n",
       "      <td>0.000000</td>\n",
       "      <td>0.000000</td>\n",
       "      <td>0.000000</td>\n",
       "      <td>0.000000</td>\n",
       "      <td>0.000000</td>\n",
       "      <td>0.000000</td>\n",
       "      <td>0.000000</td>\n",
       "    </tr>\n",
       "    <tr>\n",
       "      <th>25%</th>\n",
       "      <td>33.000000</td>\n",
       "      <td>69.000000</td>\n",
       "      <td>9.000000</td>\n",
       "      <td>104.000000</td>\n",
       "      <td>1.000000</td>\n",
       "      <td>-1.000000</td>\n",
       "      <td>0.000000</td>\n",
       "      <td>0.000000</td>\n",
       "      <td>0.000000</td>\n",
       "      <td>0.000000</td>\n",
       "      <td>...</td>\n",
       "      <td>0.000000</td>\n",
       "      <td>0.000000</td>\n",
       "      <td>0.000000</td>\n",
       "      <td>0.000000</td>\n",
       "      <td>0.000000</td>\n",
       "      <td>0.000000</td>\n",
       "      <td>0.000000</td>\n",
       "      <td>1.000000</td>\n",
       "      <td>1.000000</td>\n",
       "      <td>0.000000</td>\n",
       "    </tr>\n",
       "    <tr>\n",
       "      <th>50%</th>\n",
       "      <td>39.000000</td>\n",
       "      <td>444.000000</td>\n",
       "      <td>16.000000</td>\n",
       "      <td>185.000000</td>\n",
       "      <td>2.000000</td>\n",
       "      <td>-1.000000</td>\n",
       "      <td>0.000000</td>\n",
       "      <td>0.000000</td>\n",
       "      <td>0.000000</td>\n",
       "      <td>0.000000</td>\n",
       "      <td>...</td>\n",
       "      <td>0.000000</td>\n",
       "      <td>0.000000</td>\n",
       "      <td>0.000000</td>\n",
       "      <td>0.000000</td>\n",
       "      <td>0.000000</td>\n",
       "      <td>0.000000</td>\n",
       "      <td>0.000000</td>\n",
       "      <td>1.000000</td>\n",
       "      <td>1.000000</td>\n",
       "      <td>0.000000</td>\n",
       "    </tr>\n",
       "    <tr>\n",
       "      <th>75%</th>\n",
       "      <td>49.000000</td>\n",
       "      <td>1480.000000</td>\n",
       "      <td>21.000000</td>\n",
       "      <td>329.000000</td>\n",
       "      <td>3.000000</td>\n",
       "      <td>-1.000000</td>\n",
       "      <td>0.000000</td>\n",
       "      <td>0.000000</td>\n",
       "      <td>0.000000</td>\n",
       "      <td>0.000000</td>\n",
       "      <td>...</td>\n",
       "      <td>1.000000</td>\n",
       "      <td>0.000000</td>\n",
       "      <td>0.000000</td>\n",
       "      <td>0.000000</td>\n",
       "      <td>0.000000</td>\n",
       "      <td>0.000000</td>\n",
       "      <td>0.000000</td>\n",
       "      <td>1.000000</td>\n",
       "      <td>1.000000</td>\n",
       "      <td>0.000000</td>\n",
       "    </tr>\n",
       "    <tr>\n",
       "      <th>max</th>\n",
       "      <td>87.000000</td>\n",
       "      <td>71188.000000</td>\n",
       "      <td>31.000000</td>\n",
       "      <td>3025.000000</td>\n",
       "      <td>50.000000</td>\n",
       "      <td>871.000000</td>\n",
       "      <td>25.000000</td>\n",
       "      <td>1.000000</td>\n",
       "      <td>1.000000</td>\n",
       "      <td>1.000000</td>\n",
       "      <td>...</td>\n",
       "      <td>1.000000</td>\n",
       "      <td>1.000000</td>\n",
       "      <td>1.000000</td>\n",
       "      <td>1.000000</td>\n",
       "      <td>1.000000</td>\n",
       "      <td>1.000000</td>\n",
       "      <td>1.000000</td>\n",
       "      <td>1.000000</td>\n",
       "      <td>1.000000</td>\n",
       "      <td>1.000000</td>\n",
       "    </tr>\n",
       "  </tbody>\n",
       "</table>\n",
       "<p>8 rows × 53 columns</p>\n",
       "</div>"
      ],
      "text/plain": [
       "               age       balance          day     duration     campaign  \\\n",
       "count  4521.000000   4521.000000  4521.000000  4521.000000  4521.000000   \n",
       "mean     41.170095   1422.657819    15.915284   263.961292     2.793630   \n",
       "std      10.576211   3009.638142     8.247667   259.856633     3.109807   \n",
       "min      19.000000  -3313.000000     1.000000     4.000000     1.000000   \n",
       "25%      33.000000     69.000000     9.000000   104.000000     1.000000   \n",
       "50%      39.000000    444.000000    16.000000   185.000000     2.000000   \n",
       "75%      49.000000   1480.000000    21.000000   329.000000     3.000000   \n",
       "max      87.000000  71188.000000    31.000000  3025.000000    50.000000   \n",
       "\n",
       "             pdays     previous   job_admin.  job_blue-collar  \\\n",
       "count  4521.000000  4521.000000  4521.000000      4521.000000   \n",
       "mean     39.766645     0.542579     0.105729         0.209246   \n",
       "std     100.121124     1.693562     0.307524         0.406815   \n",
       "min      -1.000000     0.000000     0.000000         0.000000   \n",
       "25%      -1.000000     0.000000     0.000000         0.000000   \n",
       "50%      -1.000000     0.000000     0.000000         0.000000   \n",
       "75%      -1.000000     0.000000     0.000000         0.000000   \n",
       "max     871.000000    25.000000     1.000000         1.000000   \n",
       "\n",
       "       job_entrepreneur  ...    month_may    month_nov    month_oct  \\\n",
       "count       4521.000000  ...  4521.000000  4521.000000  4521.000000   \n",
       "mean           0.037160  ...     0.309224     0.086043     0.017695   \n",
       "std            0.189174  ...     0.462225     0.280458     0.131856   \n",
       "min            0.000000  ...     0.000000     0.000000     0.000000   \n",
       "25%            0.000000  ...     0.000000     0.000000     0.000000   \n",
       "50%            0.000000  ...     0.000000     0.000000     0.000000   \n",
       "75%            0.000000  ...     1.000000     0.000000     0.000000   \n",
       "max            1.000000  ...     1.000000     1.000000     1.000000   \n",
       "\n",
       "         month_sep  poutcome_failure  poutcome_other  poutcome_success  \\\n",
       "count  4521.000000       4521.000000     4521.000000       4521.000000   \n",
       "mean      0.011502          0.108383        0.043574          0.028534   \n",
       "std       0.106640          0.310898        0.204169          0.166510   \n",
       "min       0.000000          0.000000        0.000000          0.000000   \n",
       "25%       0.000000          0.000000        0.000000          0.000000   \n",
       "50%       0.000000          0.000000        0.000000          0.000000   \n",
       "75%       0.000000          0.000000        0.000000          0.000000   \n",
       "max       1.000000          1.000000        1.000000          1.000000   \n",
       "\n",
       "       poutcome_unknown  response_no  response_yes  \n",
       "count       4521.000000  4521.000000   4521.000000  \n",
       "mean           0.819509     0.884760      0.115240  \n",
       "std            0.384638     0.319347      0.319347  \n",
       "min            0.000000     0.000000      0.000000  \n",
       "25%            1.000000     1.000000      0.000000  \n",
       "50%            1.000000     1.000000      0.000000  \n",
       "75%            1.000000     1.000000      0.000000  \n",
       "max            1.000000     1.000000      1.000000  \n",
       "\n",
       "[8 rows x 53 columns]"
      ]
     },
     "execution_count": 5,
     "metadata": {},
     "output_type": "execute_result"
    }
   ],
   "source": [
    "bank.describe(include=\"all\")"
   ]
  },
  {
   "cell_type": "markdown",
   "metadata": {},
   "source": [
    "## Plots\n",
    "We look at the data"
   ]
  },
  {
   "cell_type": "code",
   "execution_count": 6,
   "metadata": {},
   "outputs": [
    {
     "data": {
      "text/plain": [
       "(array([4.111e+03, 3.400e+02, 4.700e+01, 1.700e+01, 4.000e+00, 0.000e+00,\n",
       "        1.000e+00, 0.000e+00, 0.000e+00, 1.000e+00]),\n",
       " array([-3313. ,  4137.1, 11587.2, 19037.3, 26487.4, 33937.5, 41387.6,\n",
       "        48837.7, 56287.8, 63737.9, 71188. ]),\n",
       " <a list of 10 Patch objects>)"
      ]
     },
     "execution_count": 6,
     "metadata": {},
     "output_type": "execute_result"
    },
    {
     "data": {
      "image/png": "[encoded data removed]",
      "text/plain": [
       "<Figure size 432x288 with 1 Axes>"
      ]
     },
     "metadata": {
      "needs_background": "light"
     },
     "output_type": "display_data"
    }
   ],
   "source": [
    "plt.hist(bank1.balance)"
   ]
  },
  {
   "cell_type": "code",
   "execution_count": 7,
   "metadata": {},
   "outputs": [
    {
     "data": {
      "image/png": "[encoded data removed]",
      "text/plain": [
       "<Figure size 720x360 with 2 Axes>"
      ]
     },
     "metadata": {
      "needs_background": "light"
     },
     "output_type": "display_data"
    },
    {
     "data": {
      "image/png": "[encoded data removed]",
      "text/plain": [
       "<Figure size 1080x360 with 3 Axes>"
      ]
     },
     "metadata": {
      "needs_background": "light"
     },
     "output_type": "display_data"
    },
    {
     "data": {
      "image/png": "[encoded data removed]",
      "text/plain": [
       "<Figure size 720x360 with 2 Axes>"
      ]
     },
     "metadata": {
      "needs_background": "light"
     },
     "output_type": "display_data"
    },
    {
     "data": {
      "image/png": "[encoded data removed]",
      "text/plain": [
       "<Figure size 360x360 with 1 Axes>"
      ]
     },
     "metadata": {
      "needs_background": "light"
     },
     "output_type": "display_data"
    },
    {
     "data": {
      "image/png": "[encoded data removed]",
      "text/plain": [
       "<Figure size 413.5x360 with 1 Axes>"
      ]
     },
     "metadata": {
      "needs_background": "light"
     },
     "output_type": "display_data"
    },
    {
     "data": {
      "image/png": "[encoded data removed]",
      "text/plain": [
       "<Figure size 413.5x360 with 1 Axes>"
      ]
     },
     "metadata": {
      "needs_background": "light"
     },
     "output_type": "display_data"
    },
    {
     "data": {
      "image/png": "[encoded data removed]",
      "text/plain": [
       "<Figure size 413.5x360 with 1 Axes>"
      ]
     },
     "metadata": {
      "needs_background": "light"
     },
     "output_type": "display_data"
    },
    {
     "data": {
      "image/png": "[encoded data removed]",
      "text/plain": [
       "<Figure size 413.5x360 with 1 Axes>"
      ]
     },
     "metadata": {
      "needs_background": "light"
     },
     "output_type": "display_data"
    }
   ],
   "source": [
    "################Plot the Data#########################################\n",
    "fig1=sns.catplot(x=\"response\", col=\"loan\", data=bank1, kind=\"count\")\n",
    "fig2=sns.catplot(x=\"response\", col=\"marital\", data=bank1, kind=\"count\")\n",
    "fig3=sns.catplot(x=\"response\", col=\"default\", data=bank1, kind=\"count\")\n",
    "fig4=sns.catplot(x=\"response\", y=\"balance\", data=bank1)\n",
    "fig5=sns.catplot(x=\"loan\", y=\"balance\", hue=\"response\", kind=\"boxen\", data=bank1)\n",
    "fig6=sns.catplot(x=\"housing\", y=\"balance\", hue=\"response\", kind=\"boxen\", data=bank1)\n",
    "fig7=sns.catplot(x=\"default\", y=\"balance\", hue=\"response\", kind=\"boxen\", data=bank1)\n",
    "fig8=sns.catplot(x=\"default\", y=\"age\", hue=\"response\", kind=\"boxen\", data=bank1)\n",
    "######################################################################"
   ]
  },
  {
   "cell_type": "markdown",
   "metadata": {},
   "source": [
    "# You could use train_test_split to split the data. \n",
    "This is probably the easiest way to start."
   ]
  },
  {
   "cell_type": "code",
   "execution_count": 8,
   "metadata": {},
   "outputs": [
    {
     "name": "stdout",
     "output_type": "stream",
     "text": [
      "% defaults: 11.52\n"
     ]
    }
   ],
   "source": [
    "X,y=np.array(bank[['loan_yes', 'default_yes', 'housing_yes']]),np.array(bank['response_yes'])\n",
    "X_train, X_test, y_train, y_test=tts(X, y, test_size=0.3, random_state=42)\n",
    "print(\"% defaults:\", round(100*sum(y) / len(y),2))"
   ]
  },
  {
   "cell_type": "markdown",
   "metadata": {},
   "source": [
    "# But What About Upsampling?\n",
    "You have very few in the class of interest (default == 1).  You could upsample the training set to see if you could fit a better model.  "
   ]
  },
  {
   "cell_type": "code",
   "execution_count": 9,
   "metadata": {},
   "outputs": [
    {
     "name": "stdout",
     "output_type": "stream",
     "text": [
      "0.5\n"
     ]
    }
   ],
   "source": [
    "minority, majority=X_train[y_train==1], X_train[y_train==0] #bifurcate\n",
    "oversample=len(majority)\n",
    "\n",
    "#########Resample with Replacement###################################################\n",
    "minority= resample(minority, replace=True, n_samples=oversample, random_state=123) \n",
    "#####################################################################################\n",
    "\n",
    "#########Rebuild the training set with the upsampled data###########################\n",
    "X_train1=np.concatenate((minority, majority))\n",
    "a,b=np.repeat(1,oversample),np.repeat(0,len(majority)) \n",
    "y_train1=np.append(a, b)\n",
    "print(sum(y_train1)/len(y_train1))\n",
    "#####################################################################################"
   ]
  },
  {
   "cell_type": "markdown",
   "metadata": {},
   "source": [
    "## Logistic Regression and Naive Bayes on the Training Set\n",
    "Easy to do...use cross_val_score from model_selection"
   ]
  },
  {
   "cell_type": "code",
   "execution_count": 10,
   "metadata": {},
   "outputs": [
    {
     "name": "stdout",
     "output_type": "stream",
     "text": [
      "Accuracy of LR: \n",
      " [0.57678571 0.58035714 0.59285714 0.58571429 0.61964286 0.60573477\n",
      " 0.58960573 0.59677419 0.62903226 0.58781362]\n"
     ]
    }
   ],
   "source": [
    "###Import Necessary Libraries\n",
    "from sklearn.metrics import roc_auc_score as roc\n",
    "from sklearn.metrics import confusion_matrix as cm\n",
    "from sklearn.naive_bayes import BernoulliNB as bern\n",
    "from sklearn.linear_model import LogisticRegression as lr \n",
    "from sklearn.model_selection import cross_val_score as cvs\n",
    "from sklearn import metrics\n",
    "nfolds=10\n",
    "\n",
    "clf = lr(solver=\"lbfgs\", multi_class=\"ovr\") \n",
    "mycvs=cvs(clf,X_train1,y_train1,cv=nfolds)\n",
    "print(\"Accuracy of LR: \\n\", mycvs)"
   ]
  },
  {
   "cell_type": "markdown",
   "metadata": {},
   "source": [
    "## Naive Bayes\n",
    "Now, Naive Bayes"
   ]
  },
  {
   "cell_type": "code",
   "execution_count": 11,
   "metadata": {},
   "outputs": [
    {
     "name": "stdout",
     "output_type": "stream",
     "text": [
      "\n",
      " Accuracy of NB: \n",
      " [0.57678571 0.58035714 0.59285714 0.58571429 0.61964286 0.60573477\n",
      " 0.58960573 0.59677419 0.62903226 0.58781362]\n"
     ]
    },
    {
     "data": {
      "text/plain": [
       "<matplotlib.collections.PathCollection at 0x1b7ab2f52e8>"
      ]
     },
     "execution_count": 11,
     "metadata": {},
     "output_type": "execute_result"
    },
    {
     "data": {
      "image/png": "[encoded data removed]",
      "text/plain": [
       "<Figure size 432x288 with 1 Axes>"
      ]
     },
     "metadata": {
      "needs_background": "light"
     },
     "output_type": "display_data"
    }
   ],
   "source": [
    "clf1=bern()\n",
    "mycvs1=cvs(clf1, X_train1, y_train1, cv=nfolds)\n",
    "print(\"\\n Accuracy of NB: \\n\", mycvs1)\n",
    "\n",
    "\n",
    "from matplotlib.pyplot import scatter\n",
    "scatter(mycvs, mycvs1)\n",
    "\n",
    "#The two models produce the same results as the training set size \n",
    "#approaches ∞ IF the Naive Bayes assumption holds that the xi’s are \n",
    "#conditionally independent of one another given y. "
   ]
  },
  {
   "cell_type": "markdown",
   "metadata": {},
   "source": [
    "## Now Fit the Full Training Set\n",
    "\n",
    "Well, we can use the ROC, NPV, PPV, etc."
   ]
  },
  {
   "cell_type": "code",
   "execution_count": 12,
   "metadata": {},
   "outputs": [
    {
     "name": "stdout",
     "output_type": "stream",
     "text": [
      "Area Under the Curve: 0.5985032689987552\n",
      "\n",
      " Confusion Matrix: \n",
      " [[1801  994]\n",
      " [1253 1542]]\n",
      "\n",
      " PPV, Correctly Classifies Response Yes: \n",
      " 0.5516994633273703\n",
      "\n",
      " NPV, Correctly Classifies Response No: \n",
      " 0.6443649373881932\n",
      "Area Under the Curve: 0.5985032689987552\n",
      "\n",
      " Confusion Matrix: \n",
      " [[1801  994]\n",
      " [1253 1542]]\n",
      "\n",
      " PPV, Correctly Classifies Response Yes: \n",
      " 0.5516994633273703\n",
      "\n",
      " NPV, Correctly Classifies Response No: \n",
      " 0.6443649373881932\n"
     ]
    }
   ],
   "source": [
    "clf.fit(X_train1,y_train1)\n",
    "mypred=clf.predict_proba(X_train1)\n",
    "mypred = [p[1] for p in mypred]\n",
    "mypredclass=clf.predict(X_train1)\n",
    "\n",
    "clf1.fit(X_train1,y_train1)\n",
    "mypred1=clf1.predict_proba(X_train1)\n",
    "mypred1=[p[1] for p in mypred1]\n",
    "mypredclass1=clf1.predict(X_train1)\n",
    "\n",
    "def metrics(y,mypred):\n",
    "    print(\"Area Under the Curve:\", roc(y,mypred))\n",
    "    myconfusion=cm(y,mypredclass)\n",
    "    PPV=(myconfusion[1,1]/(myconfusion[1,0]+myconfusion[1,1]))\n",
    "    NPV=(myconfusion[0,0]/(myconfusion[0,0]+myconfusion[0,1]))\n",
    "    print(\"\\n Confusion Matrix: \\n\",myconfusion)\n",
    "    print(\"\\n PPV, Correctly Classifies Response Yes: \\n\", PPV)\n",
    "    print(\"\\n NPV, Correctly Classifies Response No: \\n\", NPV)\n",
    "    \n",
    "metrics(y_train1,mypred)\n",
    "metrics(y_train1,mypred1)"
   ]
  },
  {
   "cell_type": "markdown",
   "metadata": {},
   "source": [
    "## What about the Test Set\n",
    "\n",
    "Here is where the money meets the math. How do the models do?"
   ]
  },
  {
   "cell_type": "code",
   "execution_count": 13,
   "metadata": {},
   "outputs": [
    {
     "name": "stdout",
     "output_type": "stream",
     "text": [
      "Area Under the Curve: 0.5959407075780739\n",
      "\n",
      " Confusion Matrix: \n",
      " [[793 412]\n",
      " [ 72  80]]\n",
      "\n",
      " PPV, Correctly Classifies Response Yes: \n",
      " 0.5263157894736842\n",
      "\n",
      " NPV, Correctly Classifies Response No: \n",
      " 0.6580912863070539\n",
      "Area Under the Curve: 0.5959407075780739\n",
      "\n",
      " Confusion Matrix: \n",
      " [[793 412]\n",
      " [ 72  80]]\n",
      "\n",
      " PPV, Correctly Classifies Response Yes: \n",
      " 0.5263157894736842\n",
      "\n",
      " NPV, Correctly Classifies Response No: \n",
      " 0.6580912863070539\n"
     ]
    }
   ],
   "source": [
    "mypred=clf.predict_proba(X_test)\n",
    "mypred = [p[1] for p in mypred]\n",
    "mypredclass=clf.predict(X_test)\n",
    "\n",
    "mypred1=clf1.predict_proba(X_test)\n",
    "mypred1=[p[1] for p in mypred1]\n",
    "mypredclass1=clf1.predict(X_test)\n",
    "\n",
    "metrics(y_test,mypred)\n",
    "metrics(y_test,mypred1)"
   ]
  },
  {
   "cell_type": "code",
   "execution_count": 14,
   "metadata": {},
   "outputs": [
    {
     "data": {
      "image/png": "[encoded data removed]",
      "text/plain": [
       "<Figure size 432x288 with 1 Axes>"
      ]
     },
     "metadata": {
      "needs_background": "light"
     },
     "output_type": "display_data"
    }
   ],
   "source": [
    "from sklearn.metrics import roc_curve, auc\n",
    "fpr, tpr, thresholds = roc_curve(mypredclass, y_test)\n",
    "roc_auc = auc(fpr, tpr)\n",
    "\n",
    "plt.figure()\n",
    "plt.plot(fpr, tpr, color='darkorange', lw=1, label='ROC curve (area = %0.2f)' % roc_auc)\n",
    "plt.plot([0, 1], [0, 1], color='navy', linestyle='--')\n",
    "plt.xlim([0.0, 1.0])\n",
    "plt.ylim([0.0, 1.05])\n",
    "plt.xlabel('False Positive Rate')\n",
    "plt.ylabel('True Positive Rate')\n",
    "plt.title('Receiver operating characteristic, Test Set, Logistic Regression (Identical for NB)')\n",
    "plt.legend(loc=\"lower right\")\n",
    "plt.show()"
   ]
  }
 ],
 "metadata": {
  "kernelspec": {
   "display_name": "Python 3",
   "language": "python",
   "name": "python3"
  },
  "language_info": {
   "codemirror_mode": {
    "name": "ipython",
    "version": 3
   },
   "file_extension": ".py",
   "mimetype": "text/x-python",
   "name": "python",
   "nbconvert_exporter": "python",
   "pygments_lexer": "ipython3",
   "version": "3.7.2"
  }
 },
 "nbformat": 4,
 "nbformat_minor": 2
}
